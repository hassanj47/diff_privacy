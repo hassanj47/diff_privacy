{
  "cells": [
    {
      "cell_type": "code",
      "execution_count": null,
      "metadata": {
        "id": "Xl7fLGz1qjJg"
      },
      "outputs": [],
      "source": [
        "import numpy as np\n",
        "import pandas as pd\n",
        "import matplotlib.pyplot as plt\n",
        "import seaborn as sns\n",
        "import math"
      ]
    },
    {
      "cell_type": "markdown",
      "metadata": {
        "id": "atActQ55sO_j"
      },
      "source": [
        "### Random response"
      ]
    },
    {
      "cell_type": "code",
      "execution_count": null,
      "metadata": {
        "id": "RG0EA1CjqpDo"
      },
      "outputs": [],
      "source": [
        "def rand_response(bin_resp, p):\n",
        "  trial = np.random.binomial(1, p)\n",
        "  if trial:\n",
        "    return bin_resp\n",
        "  else:\n",
        "    return 1-bin_resp\n",
        "\n",
        "def rr_sum_estimator(rand_resps, p):\n",
        "  q = 1-p\n",
        "  est = (rand_resps.sum() - len(rand_resps)*q)/(p-q)\n",
        "  return est\n",
        "\n",
        "def rr_mean_estimator(rand_resps, p):\n",
        "  est = rr_sum_estimator(rand_resps, p)/len(rand_resps)\n",
        "  return est "
      ]
    },
    {
      "cell_type": "code",
      "execution_count": null,
      "metadata": {
        "colab": {
          "base_uri": "https://localhost:8080/",
          "height": 265
        },
        "id": "7Zki2fSAsUuX",
        "outputId": "a09b1e40-2679-451d-aca7-9b23c5501d45"
      },
      "outputs": [
        {
          "output_type": "display_data",
          "data": {
            "text/plain": [
              "<Figure size 432x288 with 1 Axes>"
            ],
            "image/png": "[encoded data removed]"
          },
          "metadata": {
            "needs_background": "light"
          }
        }
      ],
      "source": [
        "p = 0.7\n",
        "true_resps = 80\n",
        "total_resps = 100\n",
        "responses = list(np.ones(true_resps))+list(np.zeros(total_resps - true_resps))\n",
        "\n",
        "means = []\n",
        "for i in range(1000):\n",
        "  rand_resps = [rand_response(resp, p) for resp in responses]\n",
        "  rand_resps = pd.Series(rand_resps)\n",
        "  est_mean = rr_mean_estimator(rand_resps, p)\n",
        "  means.append(est_mean)\n",
        "\n",
        "sns.kdeplot(means)\n",
        "plt.show()"
      ]
    },
    {
      "cell_type": "markdown",
      "metadata": {
        "id": "5nQk7wtDyN3k"
      },
      "source": [
        "## Generalized Random response"
      ]
    },
    {
      "cell_type": "code",
      "execution_count": null,
      "metadata": {
        "id": "U-8yOEwfGppH"
      },
      "outputs": [],
      "source": [
        "def grr_multinomial(p, d):\n",
        "    pvals = [p] +[(1-p)/(d-1)]*(d-1)\n",
        "    trial = np.random.multinomial(1, pvals)\n",
        "    return trial\n",
        "\n",
        "def gen_rand_response(resp, p, dom):\n",
        "    \n",
        "    size_d = len(dom)\n",
        "    trial = grr_multinomial(p, size_d)\n",
        "    ind, = np.where(trial==1)\n",
        "    resp_t = ind[0]\n",
        "\n",
        "    if resp_t == 0:\n",
        "      return resp\n",
        "    else:\n",
        "      dom_rest = [i for i in dom if i != resp]\n",
        "      return dom_rest[resp_t-1]\n",
        "\n",
        "def grr_sum_estimator(rand_resps, n, p, dom):\n",
        "  q = (1-p)/(len(dom)-1)\n",
        "  est = (rand_resps.count() - n*q)/(p-q)\n",
        "  return est\n",
        "\n",
        "def grr_mean_estimator(rand_resps, n, p, dom):\n",
        "  sum = grr_sum_estimator(rand_resps, n, p, dom)\n",
        "  est = sum/n\n",
        "  return est"
      ]
    },
    {
      "cell_type": "code",
      "execution_count": null,
      "metadata": {
        "colab": {
          "base_uri": "https://localhost:8080/"
        },
        "id": "WYY5q53yayef",
        "outputId": "570f6ad4-4383-4555-f918-8fce6add5a59"
      },
      "outputs": [
        {
          "output_type": "stream",
          "name": "stdout",
          "text": [
            "{0: [182.4999999999999], 1: [817.5]}\n"
          ]
        }
      ],
      "source": [
        "# for the binary case\n",
        "p = 0.7\n",
        "domain = [0, 1]\n",
        "true_resps = 800\n",
        "total_resps = 1000\n",
        "responses = list(np.ones(true_resps))+list(np.zeros(total_resps - true_resps))\n",
        "\n",
        "sums = {i:[] for i in domain}\n",
        "rand_resps = [gen_rand_response(resp, p, domain) for resp in responses]\n",
        "rand_resps = pd.Series(rand_resps)\n",
        "\n",
        "for i in domain:\n",
        "  resps_i = rand_resps[rand_resps == i]\n",
        "  est = grr_sum_estimator(resps_i, total_resps, p, domain)\n",
        "  sums[i].append(est)\n",
        "  \n",
        "print(sums)"
      ]
    },
    {
      "cell_type": "code",
      "execution_count": null,
      "metadata": {
        "colab": {
          "base_uri": "https://localhost:8080/"
        },
        "id": "xD5A1kduCXLJ",
        "outputId": "10d7ec8b-921a-4121-e3c0-a202c94ddc7c"
      },
      "outputs": [
        {
          "output_type": "stream",
          "name": "stdout",
          "text": [
            "{0: [198.18181818181816], 1: [483.6363636363637], 2: [318.1818181818182]}\n"
          ]
        }
      ],
      "source": [
        "# for the multinomial case\n",
        "p = 0.7\n",
        "domain = [0,1,2]\n",
        "total_resps = 1000\n",
        "responses = list(np.zeros(200))+list(np.ones(500))+list(np.ones(300)*2)\n",
        "\n",
        "sums = {i:[] for i in domain}\n",
        "rand_resps = [gen_rand_response(resp, p, domain) for resp in responses]\n",
        "rand_resps = pd.Series(rand_resps)\n",
        "\n",
        "for i in domain:\n",
        "  resps_i = rand_resps[rand_resps == i]\n",
        "  est = grr_sum_estimator(resps_i, total_resps, p, domain)\n",
        "  sums[i].append(est)\n",
        "  \n",
        "print(sums)"
      ]
    },
    {
      "cell_type": "markdown",
      "metadata": {
        "id": "fcOiGWZ7YkCw"
      },
      "source": [
        "## Laplace Mechanism"
      ]
    },
    {
      "cell_type": "code",
      "execution_count": null,
      "metadata": {
        "id": "dOmzIY-LYe3D"
      },
      "outputs": [],
      "source": [
        "def laplace_mechanism(v, k, epsilon):\n",
        "  return v + np.random.laplace(0, k/epsilon)"
      ]
    },
    {
      "cell_type": "code",
      "execution_count": null,
      "metadata": {
        "colab": {
          "base_uri": "https://localhost:8080/"
        },
        "id": "CmJZPV_lDrWo",
        "outputId": "723ea585-1ccb-484c-9016-06b2d542cc39"
      },
      "outputs": [
        {
          "output_type": "execute_result",
          "data": {
            "text/plain": [
              "3.652765845456324"
            ]
          },
          "metadata": {},
          "execution_count": 8
        }
      ],
      "source": [
        "laplace_mechanism(1, 1, 0.1)"
      ]
    },
    {
      "cell_type": "markdown",
      "metadata": {
        "id": "BlZSN49xdI91"
      },
      "source": [
        "## Discretization primitive"
      ]
    },
    {
      "cell_type": "code",
      "execution_count": null,
      "metadata": {
        "id": "leYuZD7McQmO"
      },
      "outputs": [],
      "source": [
        "def discretize(v):\n",
        "  p = (1+v)/2\n",
        "  trial = np.random.binomial(1, p)\n",
        "  \n",
        "  if trial:\n",
        "    return 1\n",
        "  else:\n",
        "    return -1\n"
      ]
    },
    {
      "cell_type": "markdown",
      "metadata": {
        "id": "uVAE0J_oec1Z"
      },
      "source": [
        "## Algorithm 1: Privacy Mechanism: MR"
      ]
    },
    {
      "cell_type": "code",
      "execution_count": null,
      "metadata": {
        "id": "NhEZp5A5ecOT"
      },
      "outputs": [],
      "source": [
        "def MR_mechanism(g, v, epsilon_1, epsilon_2, domain):\n",
        "\n",
        "  d = len(domain)\n",
        "  p = math.exp(epsilon_1) / (math.exp(epsilon_1) + d - 1)\n",
        "  g_prime = gen_rand_response(g, p, domain)\n",
        "\n",
        "  if g == g_prime:\n",
        "    v_prime = v\n",
        "  else:\n",
        "    v_prime = 0\n",
        "\n",
        "  v_prime = discretize(v_prime)\n",
        "  \n",
        "  p = math.exp(epsilon_2) / (1 + math.exp(epsilon_2)) \n",
        "  v_prime = gen_rand_response(v_prime, p, [-1,1]) # Fixed from [0,1]\n",
        "\n",
        "  return g_prime, v_prime\n"
      ]
    },
    {
      "cell_type": "markdown",
      "metadata": {
        "id": "gD3mcf9riYD2"
      },
      "source": [
        "## Algorithm 2: Privacy Mechanism: ML"
      ]
    },
    {
      "cell_type": "code",
      "execution_count": null,
      "metadata": {
        "id": "BZ_8MDh-eLvR"
      },
      "outputs": [],
      "source": [
        "def ML_mechanism(g, v, epsilon_1, epsilon_2, domain, k):\n",
        "\n",
        "  d = len(domain)\n",
        "  p = math.exp(epsilon_1) / (math.exp(epsilon_1) + d - 1)\n",
        "  g_prime = gen_rand_response(g, p, domain)\n",
        "\n",
        "  if g == g_prime:\n",
        "    v_prime = laplace_mechanism(v, 1, epsilon_2)\n",
        "  else:\n",
        "    v_prime = laplace_mechanism(0, k, epsilon_2)\n",
        "\n",
        "  return g_prime, v_prime\n",
        "\n"
      ]
    },
    {
      "cell_type": "markdown",
      "metadata": {
        "id": "SXkbqhEaj99x"
      },
      "source": [
        "## Experimental Setup\n",
        "> This is a simulation of the setting shown in the paper with the following assumptions:\n",
        "1. There is a protected attribute P = {0, 1}\n",
        "2. The performance measure is TPR, with mean_TPR(0) = 90% and mean_TPR(1) = 70%\n",
        "3. The TPR's per group are distributed with a normal distribution\n",
        "4. We take balanced samples with replacement for each iteration   \n",
        "\n"
      ]
    },
    {
      "cell_type": "code",
      "execution_count": null,
      "metadata": {
        "id": "8XjSVDw6yppa"
      },
      "outputs": [],
      "source": [
        "m_0 = 0.9\n",
        "m_1 = 0.7\n",
        "delta_m = abs(m_0 - m_1)\n",
        "size = 1000\n",
        "stddev = 0.01 \n",
        "values_0 = np.random.normal(m_0, stddev, size)\n",
        "values_1 = np.random.normal(m_1, stddev, size)"
      ]
    },
    {
      "cell_type": "code",
      "execution_count": null,
      "metadata": {
        "colab": {
          "base_uri": "https://localhost:8080/",
          "height": 265
        },
        "id": "fa8V1bH7tJDF",
        "outputId": "06cd10ae-c097-4a4d-a698-ce1a9d0e846a"
      },
      "outputs": [
        {
          "output_type": "display_data",
          "data": {
            "text/plain": [
              "<Figure size 432x288 with 1 Axes>"
            ],
            "image/png": "[encoded data removed]"
          },
          "metadata": {
            "needs_background": "light"
          }
        }
      ],
      "source": [
        "plt.subplot()\n",
        "plt.hist(values_0, bins=20)\n",
        "plt.hist(values_1, bins=20)\n",
        "plt.show()"
      ]
    },
    {
      "cell_type": "markdown",
      "metadata": {
        "id": "c8p1lJFXy-xf"
      },
      "source": [
        "## Configurations"
      ]
    },
    {
      "cell_type": "code",
      "execution_count": null,
      "metadata": {
        "id": "x6dAl3WttS-b"
      },
      "outputs": [],
      "source": [
        "domain = [0,1]\n",
        "num_runs = 10\n",
        "K = 10e3 # num clients\n",
        "epsilons =  [0.01, 0.10, 1, 10]"
      ]
    },
    {
      "cell_type": "code",
      "execution_count": null,
      "metadata": {
        "colab": {
          "base_uri": "https://localhost:8080/",
          "height": 424
        },
        "id": "LD0EnQD3zQqr",
        "outputId": "6a851c26-40d7-4cab-e334-108bc8eb97cb"
      },
      "outputs": [
        {
          "output_type": "execute_result",
          "data": {
            "text/plain": [
              "        g         v\n",
              "0     0.0  0.907585\n",
              "1     0.0  0.893582\n",
              "2     0.0  0.902298\n",
              "3     0.0  0.903738\n",
              "4     0.0  0.886267\n",
              "...   ...       ...\n",
              "1995  1.0  0.704696\n",
              "1996  1.0  0.693928\n",
              "1997  1.0  0.703320\n",
              "1998  1.0  0.698107\n",
              "1999  1.0  0.701924\n",
              "\n",
              "[2000 rows x 2 columns]"
            ],
            "text/html": [
              "\n",
              "  <div id=\"df-000d7435-026b-4458-8578-0ba61ac313a1\">\n",
              "    <div class=\"colab-df-container\">\n",
              "      <div>\n",
              "<style scoped>\n",
              "    .dataframe tbody tr th:only-of-type {\n",
              "        vertical-align: middle;\n",
              "    }\n",
              "\n",
              "    .dataframe tbody tr th {\n",
              "        vertical-align: top;\n",
              "    }\n",
              "\n",
              "    .dataframe thead th {\n",
              "        text-align: right;\n",
              "    }\n",
              "</style>\n",
              "<table border=\"1\" class=\"dataframe\">\n",
              "  <thead>\n",
              "    <tr style=\"text-align: right;\">\n",
              "      <th></th>\n",
              "      <th>g</th>\n",
              "      <th>v</th>\n",
              "    </tr>\n",
              "  </thead>\n",
              "  <tbody>\n",
              "    <tr>\n",
              "      <th>0</th>\n",
              "      <td>0.0</td>\n",
              "      <td>0.907585</td>\n",
              "    </tr>\n",
              "    <tr>\n",
              "      <th>1</th>\n",
              "      <td>0.0</td>\n",
              "      <td>0.893582</td>\n",
              "    </tr>\n",
              "    <tr>\n",
              "      <th>2</th>\n",
              "      <td>0.0</td>\n",
              "      <td>0.902298</td>\n",
              "    </tr>\n",
              "    <tr>\n",
              "      <th>3</th>\n",
              "      <td>0.0</td>\n",
              "      <td>0.903738</td>\n",
              "    </tr>\n",
              "    <tr>\n",
              "      <th>4</th>\n",
              "      <td>0.0</td>\n",
              "      <td>0.886267</td>\n",
              "    </tr>\n",
              "    <tr>\n",
              "      <th>...</th>\n",
              "      <td>...</td>\n",
              "      <td>...</td>\n",
              "    </tr>\n",
              "    <tr>\n",
              "      <th>1995</th>\n",
              "      <td>1.0</td>\n",
              "      <td>0.704696</td>\n",
              "    </tr>\n",
              "    <tr>\n",
              "      <th>1996</th>\n",
              "      <td>1.0</td>\n",
              "      <td>0.693928</td>\n",
              "    </tr>\n",
              "    <tr>\n",
              "      <th>1997</th>\n",
              "      <td>1.0</td>\n",
              "      <td>0.703320</td>\n",
              "    </tr>\n",
              "    <tr>\n",
              "      <th>1998</th>\n",
              "      <td>1.0</td>\n",
              "      <td>0.698107</td>\n",
              "    </tr>\n",
              "    <tr>\n",
              "      <th>1999</th>\n",
              "      <td>1.0</td>\n",
              "      <td>0.701924</td>\n",
              "    </tr>\n",
              "  </tbody>\n",
              "</table>\n",
              "<p>2000 rows × 2 columns</p>\n",
              "</div>\n",
              "      <button class=\"colab-df-convert\" onclick=\"convertToInteractive('df-000d7435-026b-4458-8578-0ba61ac313a1')\"\n",
              "              title=\"Convert this dataframe to an interactive table.\"\n",
              "              style=\"display:none;\">\n",
              "        \n",
              "  <svg xmlns=\"http://www.w3.org/2000/svg\" height=\"24px\"viewBox=\"0 0 24 24\"\n",
              "       width=\"24px\">\n",
              "    <path d=\"M0 0h24v24H0V0z\" fill=\"none\"/>\n",
              "    <path d=\"M18.56 5.44l.94 2.06.94-2.06 2.06-.94-2.06-.94-.94-2.06-.94 2.06-2.06.94zm-11 1L8.5 8.5l.94-2.06 2.06-.94-2.06-.94L8.5 2.5l-.94 2.06-2.06.94zm10 10l.94 2.06.94-2.06 2.06-.94-2.06-.94-.94-2.06-.94 2.06-2.06.94z\"/><path d=\"M17.41 7.96l-1.37-1.37c-.4-.4-.92-.59-1.43-.59-.52 0-1.04.2-1.43.59L10.3 9.45l-7.72 7.72c-.78.78-.78 2.05 0 2.83L4 21.41c.39.39.9.59 1.41.59.51 0 1.02-.2 1.41-.59l7.78-7.78 2.81-2.81c.8-.78.8-2.07 0-2.86zM5.41 20L4 18.59l7.72-7.72 1.47 1.35L5.41 20z\"/>\n",
              "  </svg>\n",
              "      </button>\n",
              "      \n",
              "  <style>\n",
              "    .colab-df-container {\n",
              "      display:flex;\n",
              "      flex-wrap:wrap;\n",
              "      gap: 12px;\n",
              "    }\n",
              "\n",
              "    .colab-df-convert {\n",
              "      background-color: #E8F0FE;\n",
              "      border: none;\n",
              "      border-radius: 50%;\n",
              "      cursor: pointer;\n",
              "      display: none;\n",
              "      fill: #1967D2;\n",
              "      height: 32px;\n",
              "      padding: 0 0 0 0;\n",
              "      width: 32px;\n",
              "    }\n",
              "\n",
              "    .colab-df-convert:hover {\n",
              "      background-color: #E2EBFA;\n",
              "      box-shadow: 0px 1px 2px rgba(60, 64, 67, 0.3), 0px 1px 3px 1px rgba(60, 64, 67, 0.15);\n",
              "      fill: #174EA6;\n",
              "    }\n",
              "\n",
              "    [theme=dark] .colab-df-convert {\n",
              "      background-color: #3B4455;\n",
              "      fill: #D2E3FC;\n",
              "    }\n",
              "\n",
              "    [theme=dark] .colab-df-convert:hover {\n",
              "      background-color: #434B5C;\n",
              "      box-shadow: 0px 1px 3px 1px rgba(0, 0, 0, 0.15);\n",
              "      filter: drop-shadow(0px 1px 2px rgba(0, 0, 0, 0.3));\n",
              "      fill: #FFFFFF;\n",
              "    }\n",
              "  </style>\n",
              "\n",
              "      <script>\n",
              "        const buttonEl =\n",
              "          document.querySelector('#df-000d7435-026b-4458-8578-0ba61ac313a1 button.colab-df-convert');\n",
              "        buttonEl.style.display =\n",
              "          google.colab.kernel.accessAllowed ? 'block' : 'none';\n",
              "\n",
              "        async function convertToInteractive(key) {\n",
              "          const element = document.querySelector('#df-000d7435-026b-4458-8578-0ba61ac313a1');\n",
              "          const dataTable =\n",
              "            await google.colab.kernel.invokeFunction('convertToInteractive',\n",
              "                                                     [key], {});\n",
              "          if (!dataTable) return;\n",
              "\n",
              "          const docLinkHtml = 'Like what you see? Visit the ' +\n",
              "            '<a target=\"_blank\" href=https://colab.research.google.com/notebooks/data_table.ipynb>data table notebook</a>'\n",
              "            + ' to learn more about interactive tables.';\n",
              "          element.innerHTML = '';\n",
              "          dataTable['output_type'] = 'display_data';\n",
              "          await google.colab.output.renderOutput(dataTable, element);\n",
              "          const docLink = document.createElement('div');\n",
              "          docLink.innerHTML = docLinkHtml;\n",
              "          element.appendChild(docLink);\n",
              "        }\n",
              "      </script>\n",
              "    </div>\n",
              "  </div>\n",
              "  "
            ]
          },
          "metadata": {},
          "execution_count": 15
        }
      ],
      "source": [
        "data = pd.DataFrame({'g':list(np.zeros(size))+list(np.ones(size)),\\\n",
        "                     'v':list(values_0)+list(values_1)})\n",
        "data"
      ]
    },
    {
      "cell_type": "code",
      "execution_count": null,
      "metadata": {
        "colab": {
          "base_uri": "https://localhost:8080/",
          "height": 424
        },
        "id": "si3FfeGT5jFd",
        "outputId": "44c26c06-0c2b-4ec8-d1c6-d05123e4ebd6"
      },
      "outputs": [
        {
          "output_type": "execute_result",
          "data": {
            "text/plain": [
              "      index    g         v\n",
              "0         0  0.0  0.894330\n",
              "1         1  0.0  0.904255\n",
              "2         2  0.0  0.905319\n",
              "3         3  0.0  0.886230\n",
              "4         4  0.0  0.903937\n",
              "...     ...  ...       ...\n",
              "9995   9995  1.0  0.690298\n",
              "9996   9996  1.0  0.692878\n",
              "9997   9997  1.0  0.694403\n",
              "9998   9998  1.0  0.712742\n",
              "9999   9999  1.0  0.686226\n",
              "\n",
              "[10000 rows x 3 columns]"
            ],
            "text/html": [
              "\n",
              "  <div id=\"df-ce779874-c019-425f-ae22-96df0a024943\">\n",
              "    <div class=\"colab-df-container\">\n",
              "      <div>\n",
              "<style scoped>\n",
              "    .dataframe tbody tr th:only-of-type {\n",
              "        vertical-align: middle;\n",
              "    }\n",
              "\n",
              "    .dataframe tbody tr th {\n",
              "        vertical-align: top;\n",
              "    }\n",
              "\n",
              "    .dataframe thead th {\n",
              "        text-align: right;\n",
              "    }\n",
              "</style>\n",
              "<table border=\"1\" class=\"dataframe\">\n",
              "  <thead>\n",
              "    <tr style=\"text-align: right;\">\n",
              "      <th></th>\n",
              "      <th>index</th>\n",
              "      <th>g</th>\n",
              "      <th>v</th>\n",
              "    </tr>\n",
              "  </thead>\n",
              "  <tbody>\n",
              "    <tr>\n",
              "      <th>0</th>\n",
              "      <td>0</td>\n",
              "      <td>0.0</td>\n",
              "      <td>0.894330</td>\n",
              "    </tr>\n",
              "    <tr>\n",
              "      <th>1</th>\n",
              "      <td>1</td>\n",
              "      <td>0.0</td>\n",
              "      <td>0.904255</td>\n",
              "    </tr>\n",
              "    <tr>\n",
              "      <th>2</th>\n",
              "      <td>2</td>\n",
              "      <td>0.0</td>\n",
              "      <td>0.905319</td>\n",
              "    </tr>\n",
              "    <tr>\n",
              "      <th>3</th>\n",
              "      <td>3</td>\n",
              "      <td>0.0</td>\n",
              "      <td>0.886230</td>\n",
              "    </tr>\n",
              "    <tr>\n",
              "      <th>4</th>\n",
              "      <td>4</td>\n",
              "      <td>0.0</td>\n",
              "      <td>0.903937</td>\n",
              "    </tr>\n",
              "    <tr>\n",
              "      <th>...</th>\n",
              "      <td>...</td>\n",
              "      <td>...</td>\n",
              "      <td>...</td>\n",
              "    </tr>\n",
              "    <tr>\n",
              "      <th>9995</th>\n",
              "      <td>9995</td>\n",
              "      <td>1.0</td>\n",
              "      <td>0.690298</td>\n",
              "    </tr>\n",
              "    <tr>\n",
              "      <th>9996</th>\n",
              "      <td>9996</td>\n",
              "      <td>1.0</td>\n",
              "      <td>0.692878</td>\n",
              "    </tr>\n",
              "    <tr>\n",
              "      <th>9997</th>\n",
              "      <td>9997</td>\n",
              "      <td>1.0</td>\n",
              "      <td>0.694403</td>\n",
              "    </tr>\n",
              "    <tr>\n",
              "      <th>9998</th>\n",
              "      <td>9998</td>\n",
              "      <td>1.0</td>\n",
              "      <td>0.712742</td>\n",
              "    </tr>\n",
              "    <tr>\n",
              "      <th>9999</th>\n",
              "      <td>9999</td>\n",
              "      <td>1.0</td>\n",
              "      <td>0.686226</td>\n",
              "    </tr>\n",
              "  </tbody>\n",
              "</table>\n",
              "<p>10000 rows × 3 columns</p>\n",
              "</div>\n",
              "      <button class=\"colab-df-convert\" onclick=\"convertToInteractive('df-ce779874-c019-425f-ae22-96df0a024943')\"\n",
              "              title=\"Convert this dataframe to an interactive table.\"\n",
              "              style=\"display:none;\">\n",
              "        \n",
              "  <svg xmlns=\"http://www.w3.org/2000/svg\" height=\"24px\"viewBox=\"0 0 24 24\"\n",
              "       width=\"24px\">\n",
              "    <path d=\"M0 0h24v24H0V0z\" fill=\"none\"/>\n",
              "    <path d=\"M18.56 5.44l.94 2.06.94-2.06 2.06-.94-2.06-.94-.94-2.06-.94 2.06-2.06.94zm-11 1L8.5 8.5l.94-2.06 2.06-.94-2.06-.94L8.5 2.5l-.94 2.06-2.06.94zm10 10l.94 2.06.94-2.06 2.06-.94-2.06-.94-.94-2.06-.94 2.06-2.06.94z\"/><path d=\"M17.41 7.96l-1.37-1.37c-.4-.4-.92-.59-1.43-.59-.52 0-1.04.2-1.43.59L10.3 9.45l-7.72 7.72c-.78.78-.78 2.05 0 2.83L4 21.41c.39.39.9.59 1.41.59.51 0 1.02-.2 1.41-.59l7.78-7.78 2.81-2.81c.8-.78.8-2.07 0-2.86zM5.41 20L4 18.59l7.72-7.72 1.47 1.35L5.41 20z\"/>\n",
              "  </svg>\n",
              "      </button>\n",
              "      \n",
              "  <style>\n",
              "    .colab-df-container {\n",
              "      display:flex;\n",
              "      flex-wrap:wrap;\n",
              "      gap: 12px;\n",
              "    }\n",
              "\n",
              "    .colab-df-convert {\n",
              "      background-color: #E8F0FE;\n",
              "      border: none;\n",
              "      border-radius: 50%;\n",
              "      cursor: pointer;\n",
              "      display: none;\n",
              "      fill: #1967D2;\n",
              "      height: 32px;\n",
              "      padding: 0 0 0 0;\n",
              "      width: 32px;\n",
              "    }\n",
              "\n",
              "    .colab-df-convert:hover {\n",
              "      background-color: #E2EBFA;\n",
              "      box-shadow: 0px 1px 2px rgba(60, 64, 67, 0.3), 0px 1px 3px 1px rgba(60, 64, 67, 0.15);\n",
              "      fill: #174EA6;\n",
              "    }\n",
              "\n",
              "    [theme=dark] .colab-df-convert {\n",
              "      background-color: #3B4455;\n",
              "      fill: #D2E3FC;\n",
              "    }\n",
              "\n",
              "    [theme=dark] .colab-df-convert:hover {\n",
              "      background-color: #434B5C;\n",
              "      box-shadow: 0px 1px 3px 1px rgba(0, 0, 0, 0.15);\n",
              "      filter: drop-shadow(0px 1px 2px rgba(0, 0, 0, 0.3));\n",
              "      fill: #FFFFFF;\n",
              "    }\n",
              "  </style>\n",
              "\n",
              "      <script>\n",
              "        const buttonEl =\n",
              "          document.querySelector('#df-ce779874-c019-425f-ae22-96df0a024943 button.colab-df-convert');\n",
              "        buttonEl.style.display =\n",
              "          google.colab.kernel.accessAllowed ? 'block' : 'none';\n",
              "\n",
              "        async function convertToInteractive(key) {\n",
              "          const element = document.querySelector('#df-ce779874-c019-425f-ae22-96df0a024943');\n",
              "          const dataTable =\n",
              "            await google.colab.kernel.invokeFunction('convertToInteractive',\n",
              "                                                     [key], {});\n",
              "          if (!dataTable) return;\n",
              "\n",
              "          const docLinkHtml = 'Like what you see? Visit the ' +\n",
              "            '<a target=\"_blank\" href=https://colab.research.google.com/notebooks/data_table.ipynb>data table notebook</a>'\n",
              "            + ' to learn more about interactive tables.';\n",
              "          element.innerHTML = '';\n",
              "          dataTable['output_type'] = 'display_data';\n",
              "          await google.colab.output.renderOutput(dataTable, element);\n",
              "          const docLink = document.createElement('div');\n",
              "          docLink.innerHTML = docLinkHtml;\n",
              "          element.appendChild(docLink);\n",
              "        }\n",
              "      </script>\n",
              "    </div>\n",
              "  </div>\n",
              "  "
            ]
          },
          "metadata": {},
          "execution_count": 16
        }
      ],
      "source": [
        "sample = data.groupby('g', group_keys=False).sample(n=int(K/2),\\\n",
        "                                                    replace=True).\\\n",
        "                                                    reset_index(drop=True).\\\n",
        "                                                    reset_index()\n",
        "sample\n"
      ]
    },
    {
      "cell_type": "markdown",
      "metadata": {
        "id": "SnRIBXXhOlpA"
      },
      "source": [
        "## Mechanism estimators and optimal privacy budgets"
      ]
    },
    {
      "cell_type": "code",
      "execution_count": null,
      "metadata": {
        "id": "nBn9hNZqOsGZ"
      },
      "outputs": [],
      "source": [
        "def MRG_estimator(resps, epsilon_1, epsilon_2, n, domain):\n",
        "  a = math.exp(epsilon_1)/(math.exp(epsilon_1)+len(domain)-1)\n",
        "  b = math.exp(epsilon_2)/(math.exp(epsilon_2)+1)\n",
        "  est = resps.sum()/(a*n*(2*b - 1))\n",
        "  return est\n",
        "\n",
        "def MLAP_estimator(resps, epsilon_1, n, domain):\n",
        "    a = math.exp(epsilon_1)/(math.exp(epsilon_1)+len(domain)-1)\n",
        "    est = resps.sum()/(a*n)\n",
        "    return est\n",
        "\n",
        "def MR_privacy_budget(epsilon):\n",
        "  \n",
        "  # optimal allocation that minimizes \n",
        "  # the MSE under LDP constraint (Sec 5.2)\n",
        "  \n",
        "  epsilon_1 = epsilon\n",
        "  epsilon_2 = epsilon\n",
        "\n",
        "  return epsilon_1, epsilon_2\n",
        "\n",
        "def ML_privacy_budget(epsilon):\n",
        "  \n",
        "  # minimize MSE by setting epsilon_2 = epsilon\n",
        "  # and finding the optimal k (Sec 5.2)\n",
        "\n",
        "  epsilon_2 = epsilon\n",
        "\n",
        "  if epsilon >= 2/3:\n",
        "    k = epsilon\n",
        "    epsilon_1 = math.log(2/epsilon) + epsilon - 1\n",
        "  else:\n",
        "    k = 2/3\n",
        "    epsilon_1 = math.log(3) - (epsilon/2)\n",
        "  \n",
        "  return epsilon_1, epsilon_2, k"
      ]
    },
    {
      "cell_type": "code",
      "execution_count": null,
      "metadata": {
        "id": "L057ZT5gO0CR"
      },
      "outputs": [],
      "source": [
        "epsilon = 1"
      ]
    },
    {
      "cell_type": "markdown",
      "metadata": {
        "id": "EnWqw7fxF1Rz"
      },
      "source": [
        "## MR mechanism"
      ]
    },
    {
      "cell_type": "code",
      "execution_count": null,
      "metadata": {
        "id": "HHGPDOTQO9dI"
      },
      "outputs": [],
      "source": [
        "epsilon_1, epsilon_2 = MR_privacy_budget(epsilon)"
      ]
    },
    {
      "cell_type": "code",
      "execution_count": null,
      "metadata": {
        "id": "hr9eE7FG-fhq"
      },
      "outputs": [],
      "source": [
        "def MR_apply(df, epsilon_1, epsilon_2, domain):\n",
        "    g_prime, v_prime = MR_mechanism(df.g.values[0], df.v.values[0],\n",
        "                                    epsilon_1, epsilon_2, domain)\n",
        "    return pd.DataFrame({'g_prime':[g_prime], 'v_prime':[v_prime]})"
      ]
    },
    {
      "cell_type": "code",
      "execution_count": null,
      "metadata": {
        "colab": {
          "base_uri": "https://localhost:8080/",
          "height": 424
        },
        "id": "ka1ooBTV53kr",
        "outputId": "fe3ef118-6ac0-409c-88a8-59b66054f749"
      },
      "outputs": [
        {
          "output_type": "execute_result",
          "data": {
            "text/plain": [
              "      index    g         v  g_prime  v_prime\n",
              "0         0  0.0  0.894330      0.0        1\n",
              "1         1  0.0  0.904255      0.0        1\n",
              "2         2  0.0  0.905319      0.0        1\n",
              "3         3  0.0  0.886230      1.0        1\n",
              "4         4  0.0  0.903937      0.0       -1\n",
              "...     ...  ...       ...      ...      ...\n",
              "9995   9995  1.0  0.690298      1.0       -1\n",
              "9996   9996  1.0  0.692878      1.0        1\n",
              "9997   9997  1.0  0.694403      1.0        1\n",
              "9998   9998  1.0  0.712742      1.0        1\n",
              "9999   9999  1.0  0.686226      0.0        1\n",
              "\n",
              "[10000 rows x 5 columns]"
            ],
            "text/html": [
              "\n",
              "  <div id=\"df-da97fa36-873b-45a5-ac4a-9865c796d802\">\n",
              "    <div class=\"colab-df-container\">\n",
              "      <div>\n",
              "<style scoped>\n",
              "    .dataframe tbody tr th:only-of-type {\n",
              "        vertical-align: middle;\n",
              "    }\n",
              "\n",
              "    .dataframe tbody tr th {\n",
              "        vertical-align: top;\n",
              "    }\n",
              "\n",
              "    .dataframe thead th {\n",
              "        text-align: right;\n",
              "    }\n",
              "</style>\n",
              "<table border=\"1\" class=\"dataframe\">\n",
              "  <thead>\n",
              "    <tr style=\"text-align: right;\">\n",
              "      <th></th>\n",
              "      <th>index</th>\n",
              "      <th>g</th>\n",
              "      <th>v</th>\n",
              "      <th>g_prime</th>\n",
              "      <th>v_prime</th>\n",
              "    </tr>\n",
              "  </thead>\n",
              "  <tbody>\n",
              "    <tr>\n",
              "      <th>0</th>\n",
              "      <td>0</td>\n",
              "      <td>0.0</td>\n",
              "      <td>0.894330</td>\n",
              "      <td>0.0</td>\n",
              "      <td>1</td>\n",
              "    </tr>\n",
              "    <tr>\n",
              "      <th>1</th>\n",
              "      <td>1</td>\n",
              "      <td>0.0</td>\n",
              "      <td>0.904255</td>\n",
              "      <td>0.0</td>\n",
              "      <td>1</td>\n",
              "    </tr>\n",
              "    <tr>\n",
              "      <th>2</th>\n",
              "      <td>2</td>\n",
              "      <td>0.0</td>\n",
              "      <td>0.905319</td>\n",
              "      <td>0.0</td>\n",
              "      <td>1</td>\n",
              "    </tr>\n",
              "    <tr>\n",
              "      <th>3</th>\n",
              "      <td>3</td>\n",
              "      <td>0.0</td>\n",
              "      <td>0.886230</td>\n",
              "      <td>1.0</td>\n",
              "      <td>1</td>\n",
              "    </tr>\n",
              "    <tr>\n",
              "      <th>4</th>\n",
              "      <td>4</td>\n",
              "      <td>0.0</td>\n",
              "      <td>0.903937</td>\n",
              "      <td>0.0</td>\n",
              "      <td>-1</td>\n",
              "    </tr>\n",
              "    <tr>\n",
              "      <th>...</th>\n",
              "      <td>...</td>\n",
              "      <td>...</td>\n",
              "      <td>...</td>\n",
              "      <td>...</td>\n",
              "      <td>...</td>\n",
              "    </tr>\n",
              "    <tr>\n",
              "      <th>9995</th>\n",
              "      <td>9995</td>\n",
              "      <td>1.0</td>\n",
              "      <td>0.690298</td>\n",
              "      <td>1.0</td>\n",
              "      <td>-1</td>\n",
              "    </tr>\n",
              "    <tr>\n",
              "      <th>9996</th>\n",
              "      <td>9996</td>\n",
              "      <td>1.0</td>\n",
              "      <td>0.692878</td>\n",
              "      <td>1.0</td>\n",
              "      <td>1</td>\n",
              "    </tr>\n",
              "    <tr>\n",
              "      <th>9997</th>\n",
              "      <td>9997</td>\n",
              "      <td>1.0</td>\n",
              "      <td>0.694403</td>\n",
              "      <td>1.0</td>\n",
              "      <td>1</td>\n",
              "    </tr>\n",
              "    <tr>\n",
              "      <th>9998</th>\n",
              "      <td>9998</td>\n",
              "      <td>1.0</td>\n",
              "      <td>0.712742</td>\n",
              "      <td>1.0</td>\n",
              "      <td>1</td>\n",
              "    </tr>\n",
              "    <tr>\n",
              "      <th>9999</th>\n",
              "      <td>9999</td>\n",
              "      <td>1.0</td>\n",
              "      <td>0.686226</td>\n",
              "      <td>0.0</td>\n",
              "      <td>1</td>\n",
              "    </tr>\n",
              "  </tbody>\n",
              "</table>\n",
              "<p>10000 rows × 5 columns</p>\n",
              "</div>\n",
              "      <button class=\"colab-df-convert\" onclick=\"convertToInteractive('df-da97fa36-873b-45a5-ac4a-9865c796d802')\"\n",
              "              title=\"Convert this dataframe to an interactive table.\"\n",
              "              style=\"display:none;\">\n",
              "        \n",
              "  <svg xmlns=\"http://www.w3.org/2000/svg\" height=\"24px\"viewBox=\"0 0 24 24\"\n",
              "       width=\"24px\">\n",
              "    <path d=\"M0 0h24v24H0V0z\" fill=\"none\"/>\n",
              "    <path d=\"M18.56 5.44l.94 2.06.94-2.06 2.06-.94-2.06-.94-.94-2.06-.94 2.06-2.06.94zm-11 1L8.5 8.5l.94-2.06 2.06-.94-2.06-.94L8.5 2.5l-.94 2.06-2.06.94zm10 10l.94 2.06.94-2.06 2.06-.94-2.06-.94-.94-2.06-.94 2.06-2.06.94z\"/><path d=\"M17.41 7.96l-1.37-1.37c-.4-.4-.92-.59-1.43-.59-.52 0-1.04.2-1.43.59L10.3 9.45l-7.72 7.72c-.78.78-.78 2.05 0 2.83L4 21.41c.39.39.9.59 1.41.59.51 0 1.02-.2 1.41-.59l7.78-7.78 2.81-2.81c.8-.78.8-2.07 0-2.86zM5.41 20L4 18.59l7.72-7.72 1.47 1.35L5.41 20z\"/>\n",
              "  </svg>\n",
              "      </button>\n",
              "      \n",
              "  <style>\n",
              "    .colab-df-container {\n",
              "      display:flex;\n",
              "      flex-wrap:wrap;\n",
              "      gap: 12px;\n",
              "    }\n",
              "\n",
              "    .colab-df-convert {\n",
              "      background-color: #E8F0FE;\n",
              "      border: none;\n",
              "      border-radius: 50%;\n",
              "      cursor: pointer;\n",
              "      display: none;\n",
              "      fill: #1967D2;\n",
              "      height: 32px;\n",
              "      padding: 0 0 0 0;\n",
              "      width: 32px;\n",
              "    }\n",
              "\n",
              "    .colab-df-convert:hover {\n",
              "      background-color: #E2EBFA;\n",
              "      box-shadow: 0px 1px 2px rgba(60, 64, 67, 0.3), 0px 1px 3px 1px rgba(60, 64, 67, 0.15);\n",
              "      fill: #174EA6;\n",
              "    }\n",
              "\n",
              "    [theme=dark] .colab-df-convert {\n",
              "      background-color: #3B4455;\n",
              "      fill: #D2E3FC;\n",
              "    }\n",
              "\n",
              "    [theme=dark] .colab-df-convert:hover {\n",
              "      background-color: #434B5C;\n",
              "      box-shadow: 0px 1px 3px 1px rgba(0, 0, 0, 0.15);\n",
              "      filter: drop-shadow(0px 1px 2px rgba(0, 0, 0, 0.3));\n",
              "      fill: #FFFFFF;\n",
              "    }\n",
              "  </style>\n",
              "\n",
              "      <script>\n",
              "        const buttonEl =\n",
              "          document.querySelector('#df-da97fa36-873b-45a5-ac4a-9865c796d802 button.colab-df-convert');\n",
              "        buttonEl.style.display =\n",
              "          google.colab.kernel.accessAllowed ? 'block' : 'none';\n",
              "\n",
              "        async function convertToInteractive(key) {\n",
              "          const element = document.querySelector('#df-da97fa36-873b-45a5-ac4a-9865c796d802');\n",
              "          const dataTable =\n",
              "            await google.colab.kernel.invokeFunction('convertToInteractive',\n",
              "                                                     [key], {});\n",
              "          if (!dataTable) return;\n",
              "\n",
              "          const docLinkHtml = 'Like what you see? Visit the ' +\n",
              "            '<a target=\"_blank\" href=https://colab.research.google.com/notebooks/data_table.ipynb>data table notebook</a>'\n",
              "            + ' to learn more about interactive tables.';\n",
              "          element.innerHTML = '';\n",
              "          dataTable['output_type'] = 'display_data';\n",
              "          await google.colab.output.renderOutput(dataTable, element);\n",
              "          const docLink = document.createElement('div');\n",
              "          docLink.innerHTML = docLinkHtml;\n",
              "          element.appendChild(docLink);\n",
              "        }\n",
              "      </script>\n",
              "    </div>\n",
              "  </div>\n",
              "  "
            ]
          },
          "metadata": {},
          "execution_count": 21
        }
      ],
      "source": [
        "perturbed = sample.groupby(['index','g','v']).\\\n",
        "   apply(lambda df: MR_apply(df,epsilon_1=epsilon_1, epsilon_2=epsilon_2,domain=domain))\n",
        "\n",
        "perturbed = perturbed.reset_index().drop('level_3',axis=1)\n",
        "perturbed"
      ]
    },
    {
      "cell_type": "markdown",
      "metadata": {
        "id": "It5Cn8hmEwvI"
      },
      "source": [
        "## Estimating *Count(g)*"
      ]
    },
    {
      "cell_type": "code",
      "execution_count": null,
      "metadata": {
        "colab": {
          "base_uri": "https://localhost:8080/"
        },
        "id": "186_6bz57-qo",
        "outputId": "06982abc-3546-44fd-b6a8-ad2d894f50f5"
      },
      "outputs": [
        {
          "output_type": "execute_result",
          "data": {
            "text/plain": [
              "{0: [4997.836046586262], 1: [5002.163953413738]}"
            ]
          },
          "metadata": {},
          "execution_count": 22
        }
      ],
      "source": [
        "sums = {i:[] for i in domain}\n",
        "for i in domain:\n",
        "  resps_i = perturbed[perturbed.g_prime == i].g_prime\n",
        "  p = math.exp(epsilon) / (math.exp(epsilon) + len(domain) - 1)\n",
        "  est = grr_sum_estimator(resps_i, K, p, domain)\n",
        "  sums[i].append(est)\n",
        "sums"
      ]
    },
    {
      "cell_type": "markdown",
      "metadata": {
        "id": "TFh2ixr-OWd4"
      },
      "source": [
        "## Estimating *v*"
      ]
    },
    {
      "cell_type": "code",
      "execution_count": null,
      "metadata": {
        "colab": {
          "base_uri": "https://localhost:8080/"
        },
        "id": "kKAiFieZDp3N",
        "outputId": "372e63f4-fcd4-4752-d826-7d25e5324d0a"
      },
      "outputs": [
        {
          "output_type": "execute_result",
          "data": {
            "text/plain": [
              "{0: [0.864920002278573], 1: [0.6944224248273554]}"
            ]
          },
          "metadata": {},
          "execution_count": 23
        }
      ],
      "source": [
        "means = {i:[] for i in domain}\n",
        "for i in domain:\n",
        "  resps_i = perturbed[perturbed.g_prime == i].v_prime\n",
        "  est = MRG_estimator(resps_i, epsilon_1, epsilon_2, K/2, domain)\n",
        "  means[i].append(est)\n",
        "means"
      ]
    },
    {
      "cell_type": "code",
      "execution_count": null,
      "metadata": {
        "colab": {
          "base_uri": "https://localhost:8080/"
        },
        "id": "rK3WdGnXEBMp",
        "outputId": "6d3f67c7-47bd-4ba6-d5a0-13d9a91108dd"
      },
      "outputs": [
        {
          "output_type": "execute_result",
          "data": {
            "text/plain": [
              "0.17049757745121763"
            ]
          },
          "metadata": {},
          "execution_count": 24
        }
      ],
      "source": [
        "delta_m_hat = abs(means[0][0] -  means[1][0])\n",
        "delta_m_hat"
      ]
    },
    {
      "cell_type": "markdown",
      "metadata": {
        "id": "CXiGWfEwF-wu"
      },
      "source": [
        "## ML mechanism"
      ]
    },
    {
      "cell_type": "code",
      "execution_count": null,
      "metadata": {
        "id": "66pg3FHa80Cs"
      },
      "outputs": [],
      "source": [
        "epsilon = 1"
      ]
    },
    {
      "cell_type": "code",
      "execution_count": null,
      "metadata": {
        "id": "ytj5iDSUSrqo"
      },
      "outputs": [],
      "source": [
        "epsilon_1, epsilon_2, k = ML_privacy_budget(epsilon)"
      ]
    },
    {
      "cell_type": "code",
      "execution_count": null,
      "metadata": {
        "colab": {
          "base_uri": "https://localhost:8080/"
        },
        "id": "GPv1wzoN8ulH",
        "outputId": "74268353-a444-4147-f3f5-99f943cbafe9"
      },
      "outputs": [
        {
          "output_type": "stream",
          "name": "stdout",
          "text": [
            "0.6931471805599454 1 1\n"
          ]
        }
      ],
      "source": [
        "print(epsilon_1, epsilon_2, k)"
      ]
    },
    {
      "cell_type": "code",
      "execution_count": null,
      "metadata": {
        "id": "2uNtgcJuEFOI"
      },
      "outputs": [],
      "source": [
        "def ML_apply(df, epsilon_1, epsilon_2, domain, k):\n",
        "    g_prime, v_prime = ML_mechanism(df.g.values[0], df.v.values[0],\n",
        "                                    epsilon_1, epsilon_2, domain, k)\n",
        "    return pd.DataFrame({'g_prime':[g_prime], 'v_prime':[v_prime]})"
      ]
    },
    {
      "cell_type": "code",
      "execution_count": null,
      "metadata": {
        "colab": {
          "base_uri": "https://localhost:8080/",
          "height": 424
        },
        "id": "ZoPAm33gG33n",
        "outputId": "effb56b6-959f-4ace-aa9f-bfda70a101a3"
      },
      "outputs": [
        {
          "output_type": "execute_result",
          "data": {
            "text/plain": [
              "      index    g         v  g_prime   v_prime\n",
              "0         0  0.0  0.894330      1.0 -0.295864\n",
              "1         1  0.0  0.904255      1.0 -1.690943\n",
              "2         2  0.0  0.905319      0.0  0.373968\n",
              "3         3  0.0  0.886230      0.0  1.828470\n",
              "4         4  0.0  0.903937      1.0 -0.255128\n",
              "...     ...  ...       ...      ...       ...\n",
              "9995   9995  1.0  0.690298      1.0 -3.000871\n",
              "9996   9996  1.0  0.692878      1.0  2.242727\n",
              "9997   9997  1.0  0.694403      1.0  0.333839\n",
              "9998   9998  1.0  0.712742      1.0 -0.444312\n",
              "9999   9999  1.0  0.686226      1.0  3.603492\n",
              "\n",
              "[10000 rows x 5 columns]"
            ],
            "text/html": [
              "\n",
              "  <div id=\"df-0f05ebc3-9728-42d9-9f7c-ae27f5b0ce91\">\n",
              "    <div class=\"colab-df-container\">\n",
              "      <div>\n",
              "<style scoped>\n",
              "    .dataframe tbody tr th:only-of-type {\n",
              "        vertical-align: middle;\n",
              "    }\n",
              "\n",
              "    .dataframe tbody tr th {\n",
              "        vertical-align: top;\n",
              "    }\n",
              "\n",
              "    .dataframe thead th {\n",
              "        text-align: right;\n",
              "    }\n",
              "</style>\n",
              "<table border=\"1\" class=\"dataframe\">\n",
              "  <thead>\n",
              "    <tr style=\"text-align: right;\">\n",
              "      <th></th>\n",
              "      <th>index</th>\n",
              "      <th>g</th>\n",
              "      <th>v</th>\n",
              "      <th>g_prime</th>\n",
              "      <th>v_prime</th>\n",
              "    </tr>\n",
              "  </thead>\n",
              "  <tbody>\n",
              "    <tr>\n",
              "      <th>0</th>\n",
              "      <td>0</td>\n",
              "      <td>0.0</td>\n",
              "      <td>0.894330</td>\n",
              "      <td>1.0</td>\n",
              "      <td>-0.295864</td>\n",
              "    </tr>\n",
              "    <tr>\n",
              "      <th>1</th>\n",
              "      <td>1</td>\n",
              "      <td>0.0</td>\n",
              "      <td>0.904255</td>\n",
              "      <td>1.0</td>\n",
              "      <td>-1.690943</td>\n",
              "    </tr>\n",
              "    <tr>\n",
              "      <th>2</th>\n",
              "      <td>2</td>\n",
              "      <td>0.0</td>\n",
              "      <td>0.905319</td>\n",
              "      <td>0.0</td>\n",
              "      <td>0.373968</td>\n",
              "    </tr>\n",
              "    <tr>\n",
              "      <th>3</th>\n",
              "      <td>3</td>\n",
              "      <td>0.0</td>\n",
              "      <td>0.886230</td>\n",
              "      <td>0.0</td>\n",
              "      <td>1.828470</td>\n",
              "    </tr>\n",
              "    <tr>\n",
              "      <th>4</th>\n",
              "      <td>4</td>\n",
              "      <td>0.0</td>\n",
              "      <td>0.903937</td>\n",
              "      <td>1.0</td>\n",
              "      <td>-0.255128</td>\n",
              "    </tr>\n",
              "    <tr>\n",
              "      <th>...</th>\n",
              "      <td>...</td>\n",
              "      <td>...</td>\n",
              "      <td>...</td>\n",
              "      <td>...</td>\n",
              "      <td>...</td>\n",
              "    </tr>\n",
              "    <tr>\n",
              "      <th>9995</th>\n",
              "      <td>9995</td>\n",
              "      <td>1.0</td>\n",
              "      <td>0.690298</td>\n",
              "      <td>1.0</td>\n",
              "      <td>-3.000871</td>\n",
              "    </tr>\n",
              "    <tr>\n",
              "      <th>9996</th>\n",
              "      <td>9996</td>\n",
              "      <td>1.0</td>\n",
              "      <td>0.692878</td>\n",
              "      <td>1.0</td>\n",
              "      <td>2.242727</td>\n",
              "    </tr>\n",
              "    <tr>\n",
              "      <th>9997</th>\n",
              "      <td>9997</td>\n",
              "      <td>1.0</td>\n",
              "      <td>0.694403</td>\n",
              "      <td>1.0</td>\n",
              "      <td>0.333839</td>\n",
              "    </tr>\n",
              "    <tr>\n",
              "      <th>9998</th>\n",
              "      <td>9998</td>\n",
              "      <td>1.0</td>\n",
              "      <td>0.712742</td>\n",
              "      <td>1.0</td>\n",
              "      <td>-0.444312</td>\n",
              "    </tr>\n",
              "    <tr>\n",
              "      <th>9999</th>\n",
              "      <td>9999</td>\n",
              "      <td>1.0</td>\n",
              "      <td>0.686226</td>\n",
              "      <td>1.0</td>\n",
              "      <td>3.603492</td>\n",
              "    </tr>\n",
              "  </tbody>\n",
              "</table>\n",
              "<p>10000 rows × 5 columns</p>\n",
              "</div>\n",
              "      <button class=\"colab-df-convert\" onclick=\"convertToInteractive('df-0f05ebc3-9728-42d9-9f7c-ae27f5b0ce91')\"\n",
              "              title=\"Convert this dataframe to an interactive table.\"\n",
              "              style=\"display:none;\">\n",
              "        \n",
              "  <svg xmlns=\"http://www.w3.org/2000/svg\" height=\"24px\"viewBox=\"0 0 24 24\"\n",
              "       width=\"24px\">\n",
              "    <path d=\"M0 0h24v24H0V0z\" fill=\"none\"/>\n",
              "    <path d=\"M18.56 5.44l.94 2.06.94-2.06 2.06-.94-2.06-.94-.94-2.06-.94 2.06-2.06.94zm-11 1L8.5 8.5l.94-2.06 2.06-.94-2.06-.94L8.5 2.5l-.94 2.06-2.06.94zm10 10l.94 2.06.94-2.06 2.06-.94-2.06-.94-.94-2.06-.94 2.06-2.06.94z\"/><path d=\"M17.41 7.96l-1.37-1.37c-.4-.4-.92-.59-1.43-.59-.52 0-1.04.2-1.43.59L10.3 9.45l-7.72 7.72c-.78.78-.78 2.05 0 2.83L4 21.41c.39.39.9.59 1.41.59.51 0 1.02-.2 1.41-.59l7.78-7.78 2.81-2.81c.8-.78.8-2.07 0-2.86zM5.41 20L4 18.59l7.72-7.72 1.47 1.35L5.41 20z\"/>\n",
              "  </svg>\n",
              "      </button>\n",
              "      \n",
              "  <style>\n",
              "    .colab-df-container {\n",
              "      display:flex;\n",
              "      flex-wrap:wrap;\n",
              "      gap: 12px;\n",
              "    }\n",
              "\n",
              "    .colab-df-convert {\n",
              "      background-color: #E8F0FE;\n",
              "      border: none;\n",
              "      border-radius: 50%;\n",
              "      cursor: pointer;\n",
              "      display: none;\n",
              "      fill: #1967D2;\n",
              "      height: 32px;\n",
              "      padding: 0 0 0 0;\n",
              "      width: 32px;\n",
              "    }\n",
              "\n",
              "    .colab-df-convert:hover {\n",
              "      background-color: #E2EBFA;\n",
              "      box-shadow: 0px 1px 2px rgba(60, 64, 67, 0.3), 0px 1px 3px 1px rgba(60, 64, 67, 0.15);\n",
              "      fill: #174EA6;\n",
              "    }\n",
              "\n",
              "    [theme=dark] .colab-df-convert {\n",
              "      background-color: #3B4455;\n",
              "      fill: #D2E3FC;\n",
              "    }\n",
              "\n",
              "    [theme=dark] .colab-df-convert:hover {\n",
              "      background-color: #434B5C;\n",
              "      box-shadow: 0px 1px 3px 1px rgba(0, 0, 0, 0.15);\n",
              "      filter: drop-shadow(0px 1px 2px rgba(0, 0, 0, 0.3));\n",
              "      fill: #FFFFFF;\n",
              "    }\n",
              "  </style>\n",
              "\n",
              "      <script>\n",
              "        const buttonEl =\n",
              "          document.querySelector('#df-0f05ebc3-9728-42d9-9f7c-ae27f5b0ce91 button.colab-df-convert');\n",
              "        buttonEl.style.display =\n",
              "          google.colab.kernel.accessAllowed ? 'block' : 'none';\n",
              "\n",
              "        async function convertToInteractive(key) {\n",
              "          const element = document.querySelector('#df-0f05ebc3-9728-42d9-9f7c-ae27f5b0ce91');\n",
              "          const dataTable =\n",
              "            await google.colab.kernel.invokeFunction('convertToInteractive',\n",
              "                                                     [key], {});\n",
              "          if (!dataTable) return;\n",
              "\n",
              "          const docLinkHtml = 'Like what you see? Visit the ' +\n",
              "            '<a target=\"_blank\" href=https://colab.research.google.com/notebooks/data_table.ipynb>data table notebook</a>'\n",
              "            + ' to learn more about interactive tables.';\n",
              "          element.innerHTML = '';\n",
              "          dataTable['output_type'] = 'display_data';\n",
              "          await google.colab.output.renderOutput(dataTable, element);\n",
              "          const docLink = document.createElement('div');\n",
              "          docLink.innerHTML = docLinkHtml;\n",
              "          element.appendChild(docLink);\n",
              "        }\n",
              "      </script>\n",
              "    </div>\n",
              "  </div>\n",
              "  "
            ]
          },
          "metadata": {},
          "execution_count": 29
        }
      ],
      "source": [
        "perturbed = sample.groupby(['index','g','v']).\\\n",
        "   apply(lambda df: ML_apply(df,epsilon_1=epsilon_1, epsilon_2=epsilon_2, domain=domain, k=k))\n",
        "\n",
        "perturbed = perturbed.reset_index().drop('level_3',axis=1)\n",
        "perturbed"
      ]
    },
    {
      "cell_type": "code",
      "execution_count": null,
      "metadata": {
        "colab": {
          "base_uri": "https://localhost:8080/"
        },
        "id": "rxAk6HrXG4vy",
        "outputId": "5f1fa278-8e9c-436b-e635-e683a7284fbd"
      },
      "outputs": [
        {
          "output_type": "execute_result",
          "data": {
            "text/plain": [
              "{0: [0.9336891669875145], 1: [0.7414775388226409]}"
            ]
          },
          "metadata": {},
          "execution_count": 30
        }
      ],
      "source": [
        "means = {i:[] for i in domain}\n",
        "for i in domain:\n",
        "  resps_i = perturbed[perturbed.g_prime == i].v_prime\n",
        "  est = MLAP_estimator(resps_i, epsilon_1, K/2, domain)\n",
        "  means[i].append(est)\n",
        "means"
      ]
    },
    {
      "cell_type": "code",
      "execution_count": null,
      "metadata": {
        "colab": {
          "base_uri": "https://localhost:8080/"
        },
        "id": "t9hcg6uOHWCh",
        "outputId": "f62c98be-912b-4294-cdfb-cec13265629d"
      },
      "outputs": [
        {
          "output_type": "execute_result",
          "data": {
            "text/plain": [
              "0.19221162816487358"
            ]
          },
          "metadata": {},
          "execution_count": 31
        }
      ],
      "source": [
        "delta_m_hat = abs(means[0][0] -  means[1][0])\n",
        "delta_m_hat"
      ]
    },
    {
      "cell_type": "markdown",
      "metadata": {
        "id": "uwWD5mfpdNlY"
      },
      "source": [
        "## MSE for the performance gap estimator of MR and ML estimators"
      ]
    },
    {
      "cell_type": "markdown",
      "metadata": {
        "id": "luNrwt1CdfFU"
      },
      "source": [
        "### Configuration"
      ]
    },
    {
      "cell_type": "code",
      "execution_count": null,
      "metadata": {
        "id": "Inod6AQEIxQ6"
      },
      "outputs": [],
      "source": [
        "epsilons = [0.1, 1, 2, 3, 4]\n",
        "n_G = 10e2 # different from paper i.e. 10e4\n",
        "n_G_bar = n_G\n",
        "K = n_G + n_G_bar\n",
        "num_iters = 30\n",
        "domain = [0, 1] # the domain of the group variable"
      ]
    },
    {
      "cell_type": "code",
      "execution_count": null,
      "metadata": {
        "colab": {
          "base_uri": "https://localhost:8080/",
          "height": 424
        },
        "id": "y3TLDJxKeDnD",
        "outputId": "5759ab96-a848-4b65-9a94-b2b3a37f039b"
      },
      "outputs": [
        {
          "output_type": "execute_result",
          "data": {
            "text/plain": [
              "      index    g         v\n",
              "0         0  0.0  0.893615\n",
              "1         1  0.0  0.899401\n",
              "2         2  0.0  0.895501\n",
              "3         3  0.0  0.887409\n",
              "4         4  0.0  0.888668\n",
              "...     ...  ...       ...\n",
              "1995   1995  1.0  0.715145\n",
              "1996   1996  1.0  0.714652\n",
              "1997   1997  1.0  0.707601\n",
              "1998   1998  1.0  0.713075\n",
              "1999   1999  1.0  0.696121\n",
              "\n",
              "[2000 rows x 3 columns]"
            ],
            "text/html": [
              "\n",
              "  <div id=\"df-906c83f8-a0e8-4c4c-84f7-4dc85d69831e\">\n",
              "    <div class=\"colab-df-container\">\n",
              "      <div>\n",
              "<style scoped>\n",
              "    .dataframe tbody tr th:only-of-type {\n",
              "        vertical-align: middle;\n",
              "    }\n",
              "\n",
              "    .dataframe tbody tr th {\n",
              "        vertical-align: top;\n",
              "    }\n",
              "\n",
              "    .dataframe thead th {\n",
              "        text-align: right;\n",
              "    }\n",
              "</style>\n",
              "<table border=\"1\" class=\"dataframe\">\n",
              "  <thead>\n",
              "    <tr style=\"text-align: right;\">\n",
              "      <th></th>\n",
              "      <th>index</th>\n",
              "      <th>g</th>\n",
              "      <th>v</th>\n",
              "    </tr>\n",
              "  </thead>\n",
              "  <tbody>\n",
              "    <tr>\n",
              "      <th>0</th>\n",
              "      <td>0</td>\n",
              "      <td>0.0</td>\n",
              "      <td>0.893615</td>\n",
              "    </tr>\n",
              "    <tr>\n",
              "      <th>1</th>\n",
              "      <td>1</td>\n",
              "      <td>0.0</td>\n",
              "      <td>0.899401</td>\n",
              "    </tr>\n",
              "    <tr>\n",
              "      <th>2</th>\n",
              "      <td>2</td>\n",
              "      <td>0.0</td>\n",
              "      <td>0.895501</td>\n",
              "    </tr>\n",
              "    <tr>\n",
              "      <th>3</th>\n",
              "      <td>3</td>\n",
              "      <td>0.0</td>\n",
              "      <td>0.887409</td>\n",
              "    </tr>\n",
              "    <tr>\n",
              "      <th>4</th>\n",
              "      <td>4</td>\n",
              "      <td>0.0</td>\n",
              "      <td>0.888668</td>\n",
              "    </tr>\n",
              "    <tr>\n",
              "      <th>...</th>\n",
              "      <td>...</td>\n",
              "      <td>...</td>\n",
              "      <td>...</td>\n",
              "    </tr>\n",
              "    <tr>\n",
              "      <th>1995</th>\n",
              "      <td>1995</td>\n",
              "      <td>1.0</td>\n",
              "      <td>0.715145</td>\n",
              "    </tr>\n",
              "    <tr>\n",
              "      <th>1996</th>\n",
              "      <td>1996</td>\n",
              "      <td>1.0</td>\n",
              "      <td>0.714652</td>\n",
              "    </tr>\n",
              "    <tr>\n",
              "      <th>1997</th>\n",
              "      <td>1997</td>\n",
              "      <td>1.0</td>\n",
              "      <td>0.707601</td>\n",
              "    </tr>\n",
              "    <tr>\n",
              "      <th>1998</th>\n",
              "      <td>1998</td>\n",
              "      <td>1.0</td>\n",
              "      <td>0.713075</td>\n",
              "    </tr>\n",
              "    <tr>\n",
              "      <th>1999</th>\n",
              "      <td>1999</td>\n",
              "      <td>1.0</td>\n",
              "      <td>0.696121</td>\n",
              "    </tr>\n",
              "  </tbody>\n",
              "</table>\n",
              "<p>2000 rows × 3 columns</p>\n",
              "</div>\n",
              "      <button class=\"colab-df-convert\" onclick=\"convertToInteractive('df-906c83f8-a0e8-4c4c-84f7-4dc85d69831e')\"\n",
              "              title=\"Convert this dataframe to an interactive table.\"\n",
              "              style=\"display:none;\">\n",
              "        \n",
              "  <svg xmlns=\"http://www.w3.org/2000/svg\" height=\"24px\"viewBox=\"0 0 24 24\"\n",
              "       width=\"24px\">\n",
              "    <path d=\"M0 0h24v24H0V0z\" fill=\"none\"/>\n",
              "    <path d=\"M18.56 5.44l.94 2.06.94-2.06 2.06-.94-2.06-.94-.94-2.06-.94 2.06-2.06.94zm-11 1L8.5 8.5l.94-2.06 2.06-.94-2.06-.94L8.5 2.5l-.94 2.06-2.06.94zm10 10l.94 2.06.94-2.06 2.06-.94-2.06-.94-.94-2.06-.94 2.06-2.06.94z\"/><path d=\"M17.41 7.96l-1.37-1.37c-.4-.4-.92-.59-1.43-.59-.52 0-1.04.2-1.43.59L10.3 9.45l-7.72 7.72c-.78.78-.78 2.05 0 2.83L4 21.41c.39.39.9.59 1.41.59.51 0 1.02-.2 1.41-.59l7.78-7.78 2.81-2.81c.8-.78.8-2.07 0-2.86zM5.41 20L4 18.59l7.72-7.72 1.47 1.35L5.41 20z\"/>\n",
              "  </svg>\n",
              "      </button>\n",
              "      \n",
              "  <style>\n",
              "    .colab-df-container {\n",
              "      display:flex;\n",
              "      flex-wrap:wrap;\n",
              "      gap: 12px;\n",
              "    }\n",
              "\n",
              "    .colab-df-convert {\n",
              "      background-color: #E8F0FE;\n",
              "      border: none;\n",
              "      border-radius: 50%;\n",
              "      cursor: pointer;\n",
              "      display: none;\n",
              "      fill: #1967D2;\n",
              "      height: 32px;\n",
              "      padding: 0 0 0 0;\n",
              "      width: 32px;\n",
              "    }\n",
              "\n",
              "    .colab-df-convert:hover {\n",
              "      background-color: #E2EBFA;\n",
              "      box-shadow: 0px 1px 2px rgba(60, 64, 67, 0.3), 0px 1px 3px 1px rgba(60, 64, 67, 0.15);\n",
              "      fill: #174EA6;\n",
              "    }\n",
              "\n",
              "    [theme=dark] .colab-df-convert {\n",
              "      background-color: #3B4455;\n",
              "      fill: #D2E3FC;\n",
              "    }\n",
              "\n",
              "    [theme=dark] .colab-df-convert:hover {\n",
              "      background-color: #434B5C;\n",
              "      box-shadow: 0px 1px 3px 1px rgba(0, 0, 0, 0.15);\n",
              "      filter: drop-shadow(0px 1px 2px rgba(0, 0, 0, 0.3));\n",
              "      fill: #FFFFFF;\n",
              "    }\n",
              "  </style>\n",
              "\n",
              "      <script>\n",
              "        const buttonEl =\n",
              "          document.querySelector('#df-906c83f8-a0e8-4c4c-84f7-4dc85d69831e button.colab-df-convert');\n",
              "        buttonEl.style.display =\n",
              "          google.colab.kernel.accessAllowed ? 'block' : 'none';\n",
              "\n",
              "        async function convertToInteractive(key) {\n",
              "          const element = document.querySelector('#df-906c83f8-a0e8-4c4c-84f7-4dc85d69831e');\n",
              "          const dataTable =\n",
              "            await google.colab.kernel.invokeFunction('convertToInteractive',\n",
              "                                                     [key], {});\n",
              "          if (!dataTable) return;\n",
              "\n",
              "          const docLinkHtml = 'Like what you see? Visit the ' +\n",
              "            '<a target=\"_blank\" href=https://colab.research.google.com/notebooks/data_table.ipynb>data table notebook</a>'\n",
              "            + ' to learn more about interactive tables.';\n",
              "          element.innerHTML = '';\n",
              "          dataTable['output_type'] = 'display_data';\n",
              "          await google.colab.output.renderOutput(dataTable, element);\n",
              "          const docLink = document.createElement('div');\n",
              "          docLink.innerHTML = docLinkHtml;\n",
              "          element.appendChild(docLink);\n",
              "        }\n",
              "      </script>\n",
              "    </div>\n",
              "  </div>\n",
              "  "
            ]
          },
          "metadata": {},
          "execution_count": 35
        }
      ],
      "source": [
        "sample = data.groupby('g', group_keys=False).sample(n=int(n_G),\\\n",
        "                                                    replace=True).\\\n",
        "                                                    reset_index(drop=True).\\\n",
        "                                                    reset_index()\n",
        "sample"
      ]
    },
    {
      "cell_type": "code",
      "execution_count": null,
      "metadata": {
        "id": "na8VNBtDihZP"
      },
      "outputs": [],
      "source": [
        "MR_perf_gaps = {epsilon:[] for epsilon in epsilons}\n",
        "ML_perf_gaps = {epsilon:[] for epsilon in epsilons}\n",
        "\n",
        "for epsilon in epsilons:\n",
        "  \n",
        "  # privacy budget - MR\n",
        "  epsilon_1_mr, epsilon_2_mr = MR_privacy_budget(epsilon)\n",
        "\n",
        "  # privacy budget - ML\n",
        "  epsilon_1_ml, epsilon_2_ml, k = ML_privacy_budget(epsilon)  \n",
        "\n",
        "  for i in range(num_iters):\n",
        "\n",
        "\n",
        "    # #### MR mechanism\n",
        "\n",
        "    # perturb - MR\n",
        "    perturbed = sample.groupby(['index','g','v']).\\\n",
        "       apply(lambda df: MR_apply(df,epsilon_1=epsilon_1_mr, epsilon_2=epsilon_2_mr,domain=domain))\n",
        "   \n",
        "    perturbed = perturbed.reset_index().drop('level_3',axis=1)\n",
        "    \n",
        "    \n",
        "    # aggregate - MR\n",
        "    v_est = {d: None for d in domain}\n",
        "    for d in domain:\n",
        "      resps_d = perturbed[perturbed.g_prime == d].v_prime\n",
        "      est = MRG_estimator(resps_d, epsilon_1_mr, epsilon_2_mr, K/2, domain)\n",
        "      v_est[d] = est\n",
        "    \n",
        "    # performance gap esitamtor - MR \n",
        "    delta_m_hat = abs(v_est[0] - v_est[1])\n",
        "    MR_perf_gaps[epsilon].append(delta_m_hat)\n",
        "\n",
        "    #### ML Mechanism\n",
        "\n",
        "    # perturb - ML\n",
        "    perturbed = sample.groupby(['index','g','v']).\\\n",
        "   apply(lambda df: ML_apply(df,epsilon_1=epsilon_1_ml, epsilon_2=epsilon_2_ml, domain=domain, k=k))\n",
        "\n",
        "    perturbed = perturbed.reset_index().drop('level_3',axis=1)\n",
        "    \n",
        "    # aggregate - ML\n",
        "    v_est = {d: None for d in domain}\n",
        "    for d in domain:\n",
        "      resps_d = perturbed[perturbed.g_prime == d].v_prime\n",
        "      est = MLAP_estimator(resps_d, epsilon_1_ml, K/2, domain)\n",
        "      v_est[d] = est\n",
        "    \n",
        "    delta_m_hat = abs(v_est[0] -  v_est[1])\n",
        "    ML_perf_gaps[epsilon].append(delta_m_hat)\n",
        "    \n"
      ]
    },
    {
      "cell_type": "code",
      "execution_count": null,
      "metadata": {
        "colab": {
          "base_uri": "https://localhost:8080/"
        },
        "id": "UnTIzXPHLuj-",
        "outputId": "83da2895-cab5-4b98-d230-b488803a5bea"
      },
      "outputs": [
        {
          "output_type": "execute_result",
          "data": {
            "text/plain": [
              "{0.1: [1.9826814987753378,\n",
              "  0.9150837686655404,\n",
              "  0.6863128264991556,\n",
              "  0.6100558457770271,\n",
              "  0.991340749387669,\n",
              "  3.1265362096072637,\n",
              "  1.4488826337204392,\n",
              "  0.07625698072212839,\n",
              "  0.7625698072212838,\n",
              "  0.5337988650548987,\n",
              "  0.0,\n",
              "  3.6603350746621626,\n",
              "  0.07625698072212828,\n",
              "  1.4488826337204392,\n",
              "  0.5337988650548987,\n",
              "  0.9150837686655406,\n",
              "  0.4575418843327703,\n",
              "  0.5337988650548986,\n",
              "  1.7539105566089528,\n",
              "  0.6863128264991555,\n",
              "  1.2201116915540544,\n",
              "  0.991340749387669,\n",
              "  0.7625698072212836,\n",
              "  0.4575418843327702,\n",
              "  0.38128490361064193,\n",
              "  0.07625698072212833,\n",
              "  0.9150837686655406,\n",
              "  0.15251396144425677,\n",
              "  2.974022248163007,\n",
              "  0.6863128264991555],\n",
              " 1: [0.2664024647675276,\n",
              "  0.0828807668165642,\n",
              "  0.01184010954522341,\n",
              "  0.10656098590701113,\n",
              "  0.09472087636178761,\n",
              "  0.053280492953505565,\n",
              "  0.05920054772611727,\n",
              "  0.39664366976498555,\n",
              "  0.14208131454268136,\n",
              "  0.21312197181402215,\n",
              "  0.09472087636178761,\n",
              "  0.30192279340319805,\n",
              "  0.39072361499237374,\n",
              "  0.23088213613185726,\n",
              "  0.4380840531732676,\n",
              "  0.24272224567708078,\n",
              "  0.20720191704141033,\n",
              "  0.15984147886051658,\n",
              "  0.2900826838579746,\n",
              "  0.3729634506745386,\n",
              "  0.4380840531732677,\n",
              "  0.31968295772103317,\n",
              "  0.40848377931020896,\n",
              "  0.23088213613185726,\n",
              "  0.47360438180893805,\n",
              "  0.2545623552223042,\n",
              "  0.07104065727134068,\n",
              "  0.18944175272357522,\n",
              "  0.11248104067962283,\n",
              "  0.31376290294842146],\n",
              " 2: [0.2832397046747894,\n",
              "  0.12522176417201214,\n",
              "  0.12224029359648814,\n",
              "  0.3190173515810788,\n",
              "  0.20273999913563878,\n",
              "  0.17590676395592186,\n",
              "  0.17590676395592186,\n",
              "  0.2504435283440244,\n",
              "  0.17888823453144598,\n",
              "  0.2534249989195485,\n",
              "  0.15205499935172917,\n",
              "  0.21764735201325935,\n",
              "  0.208702940286687,\n",
              "  0.21466588143773513,\n",
              "  0.17590676395592186,\n",
              "  0.0924255878412471,\n",
              "  0.22361029316430747,\n",
              "  0.15205499935172906,\n",
              "  0.17888823453144598,\n",
              "  0.15503646992725317,\n",
              "  0.1580179405027774,\n",
              "  0.1848511756824942,\n",
              "  0.12522176417201214,\n",
              "  0.2504435283440245,\n",
              "  0.2713138223726931,\n",
              "  0.2564064694950726,\n",
              "  0.21466588143773524,\n",
              "  0.208702940286687,\n",
              "  0.33392470445869926,\n",
              "  0.18783264625801832],\n",
              " 3: [0.19716527199151712,\n",
              "  0.13917548611165909,\n",
              "  0.1461342604172422,\n",
              "  0.17164976620437955,\n",
              "  0.12989712037088186,\n",
              "  0.2157220034730717,\n",
              "  0.2018044548619058,\n",
              "  0.15077344328763076,\n",
              "  0.16237140046360232,\n",
              "  0.17628894907476833,\n",
              "  0.24587669213059782,\n",
              "  0.2157220034730717,\n",
              "  0.19948486342671146,\n",
              "  0.12989712037088186,\n",
              "  0.23195914351943192,\n",
              "  0.21340241203787735,\n",
              "  0.22731996064904336,\n",
              "  0.18556731481554556,\n",
              "  0.21108282060268302,\n",
              "  0.21108282060268313,\n",
              "  0.23195914351943192,\n",
              "  0.26211383217695805,\n",
              "  0.14381466898204787,\n",
              "  0.22036118634346036,\n",
              "  0.2157220034730717,\n",
              "  0.17860854050996255,\n",
              "  0.26907260648254105,\n",
              "  0.2226807777786547,\n",
              "  0.17860854050996255,\n",
              "  0.1809281319451569],\n",
              " 4: [0.1668975808054851,\n",
              "  0.198586994882476,\n",
              "  0.22182589853893597,\n",
              "  0.2556279402210595,\n",
              "  0.21971327093380333,\n",
              "  0.18802385685681244,\n",
              "  0.12887028391309618,\n",
              "  0.18802385685681244,\n",
              "  0.22182589853893597,\n",
              "  0.17112283601575062,\n",
              "  0.24506480219539595,\n",
              "  0.22182589853893608,\n",
              "  0.16055969799008707,\n",
              "  0.17534809122601602,\n",
              "  0.23661429177486515,\n",
              "  0.2345016641697324,\n",
              "  0.24929005740566146,\n",
              "  0.21337538811840506,\n",
              "  0.198586994882476,\n",
              "  0.1668975808054851,\n",
              "  0.1859112292516797,\n",
              "  0.24083954698513055,\n",
              "  0.24506480219539595,\n",
              "  0.16478495320035247,\n",
              "  0.20492487769787426,\n",
              "  0.1943617396722106,\n",
              "  0.19647436727734335,\n",
              "  0.20703750530300702,\n",
              "  0.28097947148265223,\n",
              "  0.15633444277982156]}"
            ]
          },
          "metadata": {},
          "execution_count": 37
        }
      ],
      "source": [
        "MR_perf_gaps"
      ]
    },
    {
      "cell_type": "code",
      "execution_count": null,
      "metadata": {
        "colab": {
          "base_uri": "https://localhost:8080/"
        },
        "id": "Nyndy6DMDN4M",
        "outputId": "7368cbec-0988-4578-a899-f52ac5c699dc"
      },
      "outputs": [
        {
          "output_type": "execute_result",
          "data": {
            "text/plain": [
              "{0.1: [0.24490306427181807,\n",
              "  0.23465039315761005,\n",
              "  0.5955674824946675,\n",
              "  0.3223398930011543,\n",
              "  1.0937304298867856,\n",
              "  0.7498885461096271,\n",
              "  0.2740229642837857,\n",
              "  0.4425666306790387,\n",
              "  1.05279250504921,\n",
              "  0.3210118524206119,\n",
              "  0.5325049150957075,\n",
              "  0.43241748129572855,\n",
              "  0.04429110874321118,\n",
              "  0.17820047486057367,\n",
              "  0.11781736734458481,\n",
              "  0.3156150187876074,\n",
              "  0.10563593510248948,\n",
              "  2.103369434979353,\n",
              "  1.243155192232114,\n",
              "  0.18413024381412013,\n",
              "  0.9332474152636484,\n",
              "  0.6269209247722594,\n",
              "  0.6523716198874048,\n",
              "  0.2786394937955605,\n",
              "  0.20363174692503572,\n",
              "  0.12464185215249002,\n",
              "  1.263505593349264,\n",
              "  0.3397952368537223,\n",
              "  0.17948094735920117,\n",
              "  0.4298334754236486],\n",
              " 1: [0.21933596767606578,\n",
              "  0.106934648985758,\n",
              "  0.1665147132379693,\n",
              "  0.3293838967181325,\n",
              "  0.2943333567276677,\n",
              "  0.20782487935301408,\n",
              "  0.11160560733886915,\n",
              "  0.10794505276512745,\n",
              "  0.029455218598279265,\n",
              "  0.10971416183894145,\n",
              "  0.2909276872742871,\n",
              "  0.2978851827192236,\n",
              "  0.00666193545499727,\n",
              "  0.3505903176465137,\n",
              "  0.1587898316669324,\n",
              "  0.2716816819741068,\n",
              "  0.09047350792180386,\n",
              "  0.1973211714998111,\n",
              "  0.09065865195114708,\n",
              "  0.1592481101567783,\n",
              "  0.1042079931585419,\n",
              "  0.20708695139227107,\n",
              "  0.27574554425629005,\n",
              "  0.09293858639897212,\n",
              "  0.23263849759024824,\n",
              "  0.18199623293881806,\n",
              "  0.14594768236599065,\n",
              "  0.2828647899430471,\n",
              "  0.3430999287027411,\n",
              "  0.13418725248623053],\n",
              " 2: [0.11677051688792117,\n",
              "  0.12879081024611372,\n",
              "  0.3162999091016615,\n",
              "  0.1795046604336319,\n",
              "  0.2139773772938568,\n",
              "  0.26828636640521886,\n",
              "  0.1707640699730616,\n",
              "  0.28783486888826926,\n",
              "  0.15418539392031416,\n",
              "  0.2199713020752433,\n",
              "  0.16580826865868403,\n",
              "  0.17846737214621167,\n",
              "  0.22492702932740172,\n",
              "  0.16928926524256904,\n",
              "  0.24841250703617912,\n",
              "  0.22008537862892774,\n",
              "  0.13255135472223578,\n",
              "  0.20847642410401235,\n",
              "  0.2706910716024834,\n",
              "  0.08793104388870632,\n",
              "  0.17317977036753274,\n",
              "  0.1915299053068693,\n",
              "  0.18786298719533323,\n",
              "  0.1742338226875496,\n",
              "  0.26855544349665106,\n",
              "  0.24946483717981138,\n",
              "  0.16557011407729638,\n",
              "  0.2531280149698628,\n",
              "  0.21901448534574453,\n",
              "  0.265051103972998],\n",
              " 3: [0.23677895049668984,\n",
              "  0.2192700030348902,\n",
              "  0.1934354306439583,\n",
              "  0.2191809130201412,\n",
              "  0.21980215891802235,\n",
              "  0.20933956995324965,\n",
              "  0.14749143815845134,\n",
              "  0.19720343087707215,\n",
              "  0.27344167973694344,\n",
              "  0.1675892341815901,\n",
              "  0.21563635227167255,\n",
              "  0.1797143177784355,\n",
              "  0.10692482157977601,\n",
              "  0.1910029846100889,\n",
              "  0.20682917098361753,\n",
              "  0.19221879968792777,\n",
              "  0.1615391898597558,\n",
              "  0.14364357650518467,\n",
              "  0.22950306591726932,\n",
              "  0.26643670102200345,\n",
              "  0.27420902352083365,\n",
              "  0.18652905415547627,\n",
              "  0.20680757886102474,\n",
              "  0.17622145275936774,\n",
              "  0.16673690120546225,\n",
              "  0.2388477273267373,\n",
              "  0.2631197144688697,\n",
              "  0.2062089726398757,\n",
              "  0.19377949379048254,\n",
              "  0.1907631919704632],\n",
              " 4: [0.20654697318548387,\n",
              "  0.18200239109452643,\n",
              "  0.17288199750827693,\n",
              "  0.16702729213615763,\n",
              "  0.20270586967575666,\n",
              "  0.22781919398189077,\n",
              "  0.2193757097698661,\n",
              "  0.1864942329305963,\n",
              "  0.20549335078320452,\n",
              "  0.17766752702858613,\n",
              "  0.22010419300523165,\n",
              "  0.26919904786757265,\n",
              "  0.18865086822228283,\n",
              "  0.20503089818073106,\n",
              "  0.16997964483091355,\n",
              "  0.14621962761322627,\n",
              "  0.2602101736354159,\n",
              "  0.1766264616528752,\n",
              "  0.19845985275706046,\n",
              "  0.21294370074554336,\n",
              "  0.1780644989534348,\n",
              "  0.1927396995923879,\n",
              "  0.20107516761284172,\n",
              "  0.1787575285007711,\n",
              "  0.18010921789088052,\n",
              "  0.16331880563253576,\n",
              "  0.2126121172410833,\n",
              "  0.20972658344610784,\n",
              "  0.2032645289190549,\n",
              "  0.20327411307154053]}"
            ]
          },
          "metadata": {},
          "execution_count": 38
        }
      ],
      "source": [
        "ML_perf_gaps"
      ]
    },
    {
      "cell_type": "code",
      "execution_count": null,
      "metadata": {
        "id": "NrchMCqxo6-0"
      },
      "outputs": [],
      "source": [
        "#MR_mse = {epsilon:np.var(MR_perf_gaps[epsilon]) for epsilon in epsilons}"
      ]
    },
    {
      "cell_type": "code",
      "execution_count": null,
      "metadata": {
        "id": "fDIVo1tLrfWN"
      },
      "outputs": [],
      "source": [
        "def mean_squared_error(perf_gaps, delta_m):\n",
        "  pf_gaps = np.array(perf_gaps)\n",
        "  sq_errors = (pf_gaps - delta_m)**2\n",
        "  mse = np.mean(sq_errors)\n",
        "  return mse"
      ]
    },
    {
      "cell_type": "code",
      "execution_count": null,
      "metadata": {
        "colab": {
          "base_uri": "https://localhost:8080/"
        },
        "id": "gLP0U-v2qH6s",
        "outputId": "7a6b9b18-f799-4a99-a1cd-b8c5a59ba427"
      },
      "outputs": [
        {
          "output_type": "stream",
          "name": "stdout",
          "text": [
            "MR estimator means squared error {0.1: 1.42904782591254, 1: 0.018150161487403213, 2: 0.0032297659024980957, 3: 0.0013969819430475964, 4: 0.0012113677980837927}\n"
          ]
        }
      ],
      "source": [
        "MR_mse = {epsilon:mean_squared_error(MR_perf_gaps[epsilon],delta_m) for epsilon in epsilons}\n",
        "print('MR estimator means squared error',MR_mse)"
      ]
    },
    {
      "cell_type": "code",
      "execution_count": null,
      "metadata": {
        "colab": {
          "base_uri": "https://localhost:8080/"
        },
        "id": "Kvcbbn34r0Dc",
        "outputId": "f321130d-e42f-48f2-deae-28c394a94bd3"
      },
      "outputs": [
        {
          "output_type": "stream",
          "name": "stdout",
          "text": [
            "ML estimator means squared error {0.1: 0.30506099824659605, 1: 0.008738535791167243, 2: 0.0029113972649435662, 3: 0.001477753586501159, 4: 0.0006847219682369722}\n"
          ]
        }
      ],
      "source": [
        "ML_mse = {epsilon:mean_squared_error(ML_perf_gaps[epsilon],delta_m) for epsilon in epsilons}\n",
        "print('ML estimator means squared error',ML_mse)"
      ]
    }
  ],
  "metadata": {
    "colab": {
      "collapsed_sections": [],
      "provenance": []
    },
    "kernelspec": {
      "display_name": "Python 3",
      "name": "python3"
    },
    "language_info": {
      "name": "python"
    }
  },
  "nbformat": 4,
  "nbformat_minor": 0
}